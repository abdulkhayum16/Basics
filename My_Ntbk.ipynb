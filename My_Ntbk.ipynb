{
 "cells": [
  {
   "cell_type": "markdown",
   "id": "d6b48eff-957a-42b8-a567-32052709f5cb",
   "metadata": {},
   "source": [
    "<h1>My Jupyter Notebook on IBM Watson Studio<h1>"
   ]
  },
  {
   "cell_type": "markdown",
   "id": "b881aa09-a882-4687-84c8-d2c400f61084",
   "metadata": {},
   "source": [
    "<b>Abdul Khayum<b><br> I want to become a data scientist"
   ]
  },
  {
   "cell_type": "markdown",
   "id": "352e8822-51b5-4f21-9979-9f4bd47fe667",
   "metadata": {},
   "source": [
    "_I am interested in data science because I enjoy analysing data. Also, I am interested in data science as I think it will make me a lot of money_"
   ]
  },
  {
   "cell_type": "markdown",
   "id": "4f3d774a-f7b6-4fb0-9170-9b39de137d5b",
   "metadata": {},
   "source": [
    "<h3>My code is supposed to add two numbers together<h3>"
   ]
  },
  {
   "cell_type": "code",
   "execution_count": 4,
   "id": "8d4cfb08-a66e-4394-a717-e2f387c40e78",
   "metadata": {},
   "outputs": [
    {
     "data": {
      "text/plain": [
       "2"
      ]
     },
     "execution_count": 4,
     "metadata": {},
     "output_type": "execute_result"
    }
   ],
   "source": [
    "1+1"
   ]
  },
  {
   "cell_type": "markdown",
   "id": "810c5857-5f4e-4e10-83a8-cc5c2bedb2b4",
   "metadata": {},
   "source": [
    "Down below.\n",
    "***\n",
    "Heads up.\n",
    "1. A\n",
    "2. Short\n",
    "3. List\n",
    "- A\n",
    "- Bulleted \n",
    "- list"
   ]
  }
 ],
 "metadata": {
  "kernelspec": {
   "display_name": "Python",
   "language": "python",
   "name": "conda-env-python-py"
  },
  "language_info": {
   "codemirror_mode": {
    "name": "ipython",
    "version": 3
   },
   "file_extension": ".py",
   "mimetype": "text/x-python",
   "name": "python",
   "nbconvert_exporter": "python",
   "pygments_lexer": "ipython3",
   "version": "3.7.12"
  }
 },
 "nbformat": 4,
 "nbformat_minor": 5
}
